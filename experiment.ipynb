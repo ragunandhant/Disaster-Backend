{
 "cells": [
  {
   "cell_type": "code",
   "execution_count": 14,
   "metadata": {},
   "outputs": [],
   "source": [
    "import pandas as pd\n",
    "import numpy as np\n",
    "import matplotlib.pyplot as plt\n",
    "import seaborn as sns\n"
   ]
  },
  {
   "cell_type": "code",
   "execution_count": 15,
   "metadata": {},
   "outputs": [],
   "source": [
    "df = pd.read_csv('dataset\\Pluvial_Flood_Dataset.csv')"
   ]
  },
  {
   "cell_type": "code",
   "execution_count": 16,
   "metadata": {},
   "outputs": [
    {
     "name": "stdout",
     "output_type": "stream",
     "text": [
      "<class 'pandas.core.frame.DataFrame'>\n",
      "RangeIndex: 144401 entries, 0 to 144400\n",
      "Data columns (total 10 columns):\n",
      " #   Column      Non-Null Count   Dtype  \n",
      "---  ------      --------------   -----  \n",
      " 0   X           144401 non-null  float64\n",
      " 1   Y           144401 non-null  float64\n",
      " 2   Slope       144119 non-null  float64\n",
      " 3   Curvature   144401 non-null  float64\n",
      " 4   Aspect      144401 non-null  float64\n",
      " 5   TWI         144401 non-null  float64\n",
      " 6   FA          144401 non-null  float64\n",
      " 7   Drainage    144401 non-null  float64\n",
      " 8   Rainfall    144401 non-null  float64\n",
      " 9   SUSCEP      144401 non-null  object \n",
      "dtypes: float64(9), object(1)\n",
      "memory usage: 11.0+ MB\n"
     ]
    }
   ],
   "source": [
    "df.info()"
   ]
  },
  {
   "cell_type": "code",
   "execution_count": 17,
   "metadata": {},
   "outputs": [
    {
     "data": {
      "text/html": [
       "<div>\n",
       "<style scoped>\n",
       "    .dataframe tbody tr th:only-of-type {\n",
       "        vertical-align: middle;\n",
       "    }\n",
       "\n",
       "    .dataframe tbody tr th {\n",
       "        vertical-align: top;\n",
       "    }\n",
       "\n",
       "    .dataframe thead th {\n",
       "        text-align: right;\n",
       "    }\n",
       "</style>\n",
       "<table border=\"1\" class=\"dataframe\">\n",
       "  <thead>\n",
       "    <tr style=\"text-align: right;\">\n",
       "      <th></th>\n",
       "      <th>X</th>\n",
       "      <th>Y</th>\n",
       "      <th>Slope</th>\n",
       "      <th>Curvature</th>\n",
       "      <th>Aspect</th>\n",
       "      <th>TWI</th>\n",
       "      <th>FA</th>\n",
       "      <th>Drainage</th>\n",
       "      <th>Rainfall</th>\n",
       "      <th>SUSCEP</th>\n",
       "      <th>SUSCEP_encoded</th>\n",
       "    </tr>\n",
       "  </thead>\n",
       "  <tbody>\n",
       "    <tr>\n",
       "      <th>0</th>\n",
       "      <td>3.909444</td>\n",
       "      <td>7.443056</td>\n",
       "      <td>46.686142</td>\n",
       "      <td>-3.888000e+09</td>\n",
       "      <td>45.000000</td>\n",
       "      <td>-3.250368</td>\n",
       "      <td>147.0</td>\n",
       "      <td>228.8528</td>\n",
       "      <td>101.515616</td>\n",
       "      <td>Very_High</td>\n",
       "      <td>4.0</td>\n",
       "    </tr>\n",
       "    <tr>\n",
       "      <th>1</th>\n",
       "      <td>3.908611</td>\n",
       "      <td>7.442778</td>\n",
       "      <td>52.151768</td>\n",
       "      <td>1.296000e+09</td>\n",
       "      <td>60.945396</td>\n",
       "      <td>-4.313832</td>\n",
       "      <td>61.0</td>\n",
       "      <td>229.6781</td>\n",
       "      <td>80.409863</td>\n",
       "      <td>Very_High</td>\n",
       "      <td>4.0</td>\n",
       "    </tr>\n",
       "    <tr>\n",
       "      <th>2</th>\n",
       "      <td>3.908889</td>\n",
       "      <td>7.442778</td>\n",
       "      <td>66.484085</td>\n",
       "      <td>0.000000e+00</td>\n",
       "      <td>67.619865</td>\n",
       "      <td>-8.327622</td>\n",
       "      <td>1.0</td>\n",
       "      <td>230.5920</td>\n",
       "      <td>78.986849</td>\n",
       "      <td>Very_High</td>\n",
       "      <td>4.0</td>\n",
       "    </tr>\n",
       "    <tr>\n",
       "      <th>3</th>\n",
       "      <td>3.909167</td>\n",
       "      <td>7.442778</td>\n",
       "      <td>58.007183</td>\n",
       "      <td>-2.592000e+09</td>\n",
       "      <td>38.659809</td>\n",
       "      <td>-4.707937</td>\n",
       "      <td>51.0</td>\n",
       "      <td>235.4210</td>\n",
       "      <td>81.953151</td>\n",
       "      <td>Very_High</td>\n",
       "      <td>4.0</td>\n",
       "    </tr>\n",
       "    <tr>\n",
       "      <th>4</th>\n",
       "      <td>3.909444</td>\n",
       "      <td>7.442778</td>\n",
       "      <td>60.503792</td>\n",
       "      <td>-1.296000e+09</td>\n",
       "      <td>351.869904</td>\n",
       "      <td>-5.985817</td>\n",
       "      <td>15.0</td>\n",
       "      <td>234.4346</td>\n",
       "      <td>85.866027</td>\n",
       "      <td>Very_High</td>\n",
       "      <td>4.0</td>\n",
       "    </tr>\n",
       "  </tbody>\n",
       "</table>\n",
       "</div>"
      ],
      "text/plain": [
       "          X         Y      Slope    Curvature       Aspect       TWI     FA  \\\n",
       "0  3.909444  7.443056  46.686142 -3.888000e+09   45.000000 -3.250368  147.0   \n",
       "1  3.908611  7.442778  52.151768  1.296000e+09   60.945396 -4.313832   61.0   \n",
       "2  3.908889  7.442778  66.484085  0.000000e+00   67.619865 -8.327622    1.0   \n",
       "3  3.909167  7.442778  58.007183 -2.592000e+09   38.659809 -4.707937   51.0   \n",
       "4  3.909444  7.442778  60.503792 -1.296000e+09  351.869904 -5.985817   15.0   \n",
       "\n",
       "   Drainage    Rainfall     SUSCEP  SUSCEP_encoded  \n",
       "0  228.8528  101.515616  Very_High             4.0  \n",
       "1  229.6781   80.409863  Very_High             4.0  \n",
       "2  230.5920   78.986849  Very_High             4.0  \n",
       "3  235.4210   81.953151  Very_High             4.0  \n",
       "4  234.4346   85.866027  Very_High             4.0  "
      ]
     },
     "execution_count": 17,
     "metadata": {},
     "output_type": "execute_result"
    }
   ],
   "source": [
    "from sklearn.preprocessing import OrdinalEncoder\n",
    "\n",
    "# Initialize the ordinal encoder\n",
    "encoder = OrdinalEncoder()\n",
    "\n",
    "# Fit and transform the 'SUSCEP' column\n",
    "df['SUSCEP_encoded'] = encoder.fit_transform(df[['SUSCEP']])\n",
    "\n",
    "# Display the first few rows of the dataframe\n",
    "df.head()"
   ]
  },
  {
   "cell_type": "code",
   "execution_count": 18,
   "metadata": {},
   "outputs": [
    {
     "data": {
      "text/plain": [
       "['ordinal_encoder.pkl']"
      ]
     },
     "execution_count": 18,
     "metadata": {},
     "output_type": "execute_result"
    }
   ],
   "source": [
    "import joblib \n",
    "joblib.dump(encoder, 'ordinal_encoder.pkl')"
   ]
  },
  {
   "cell_type": "code",
   "execution_count": 19,
   "metadata": {},
   "outputs": [
    {
     "data": {
      "text/plain": [
       "array([['High']], dtype=object)"
      ]
     },
     "execution_count": 19,
     "metadata": {},
     "output_type": "execute_result"
    }
   ],
   "source": [
    "encoder.inverse_transform([[0]])"
   ]
  },
  {
   "cell_type": "code",
   "execution_count": 20,
   "metadata": {},
   "outputs": [],
   "source": [
    "df = df.drop(['SUSCEP'], axis=1)"
   ]
  },
  {
   "cell_type": "code",
   "execution_count": 21,
   "metadata": {},
   "outputs": [],
   "source": [
    "from sklearn.model_selection import train_test_split\n",
    "X,Y = df.drop(['SUSCEP_encoded'], axis=1), df['SUSCEP_encoded']"
   ]
  },
  {
   "cell_type": "code",
   "execution_count": 22,
   "metadata": {},
   "outputs": [],
   "source": [
    "X_train, X_test, Y_train, Y_test = train_test_split(X, Y, test_size=0.2, random_state=42)"
   ]
  },
  {
   "cell_type": "code",
   "execution_count": 23,
   "metadata": {},
   "outputs": [
    {
     "data": {
      "text/plain": [
       "((115520, 9), (28881, 9))"
      ]
     },
     "execution_count": 23,
     "metadata": {},
     "output_type": "execute_result"
    }
   ],
   "source": [
    "X_train.shape, X_test.shape"
   ]
  },
  {
   "cell_type": "code",
   "execution_count": 24,
   "metadata": {},
   "outputs": [
    {
     "name": "stdout",
     "output_type": "stream",
     "text": [
      "RandomForest Model: RandomForestClassifier(max_depth=20, min_samples_split=5, random_state=42)\n",
      "RandomForest Accuracy: 1.0\n"
     ]
    }
   ],
   "source": [
    "from sklearn.ensemble import RandomForestClassifier\n",
    "\n",
    "# Initialize the RandomForestClassifier with chosen parameters\n",
    "rf = RandomForestClassifier(n_estimators=100, max_depth=20, min_samples_split=5, random_state=42)\n",
    "\n",
    "# Fit the model\n",
    "rf.fit(X_train, Y_train)\n",
    "\n",
    "# Print the model\n",
    "print(\"RandomForest Model:\", rf)\n",
    "\n",
    "# Print the accuracy of the model\n",
    "print(\"RandomForest Accuracy:\", rf.score(X_test, Y_test))\n"
   ]
  },
  {
   "cell_type": "code",
   "execution_count": 27,
   "metadata": {},
   "outputs": [
    {
     "data": {
      "text/plain": [
       "['router/random_forest_model.pkl']"
      ]
     },
     "execution_count": 27,
     "metadata": {},
     "output_type": "execute_result"
    }
   ],
   "source": [
    "import joblib\n",
    "\n",
    "# Save the model to a file\n",
    "joblib.dump(rf, 'router/random_forest_model.pkl')"
   ]
  },
  {
   "cell_type": "code",
   "execution_count": 28,
   "metadata": {},
   "outputs": [
    {
     "data": {
      "image/png": "[encoded data removed]",
      "text/plain": [
       "<Figure size 1000x700 with 2 Axes>"
      ]
     },
     "metadata": {},
     "output_type": "display_data"
    }
   ],
   "source": [
    "from sklearn.metrics import confusion_matrix\n",
    "import seaborn as sns\n",
    "\n",
    "import matplotlib.pyplot as plt\n",
    "\n",
    "# Predict on the test set\n",
    "Y_pred_rf = rf.predict(X_test)\n",
    "\n",
    "# Generate the confusion matrix\n",
    "cm = confusion_matrix(Y_test, Y_pred_rf)\n",
    "\n",
    "# Plot the confusion matrix\n",
    "plt.figure(figsize=(10, 7))\n",
    "sns.heatmap(cm, annot=True, fmt='d', cmap='Blues', xticklabels=encoder.categories_[0], yticklabels=encoder.categories_[0])\n",
    "plt.xlabel('Predicted')\n",
    "plt.ylabel('Actual')\n",
    "plt.title('Confusion Matrix for Random Forest')\n",
    "plt.show()"
   ]
  },
  {
   "cell_type": "code",
   "execution_count": 29,
   "metadata": {},
   "outputs": [
    {
     "name": "stdout",
     "output_type": "stream",
     "text": [
      "Linear Regression Model: LinearRegression()\n",
      "Mean Squared Error: 1.8720118713966911\n",
      "R^2 Score: -7.256485533169155e-05\n"
     ]
    }
   ],
   "source": [
    "from sklearn.linear_model import LinearRegression\n",
    "from sklearn.metrics import mean_squared_error, r2_score\n",
    "from sklearn.impute import SimpleImputer\n",
    "\n",
    "# Handle missing values by imputing with the mean\n",
    "imputer = SimpleImputer(strategy='mean')\n",
    "X_train_imputed = imputer.fit_transform(X_train)\n",
    "X_test_imputed = imputer.transform(X_test)\n",
    "\n",
    "# Initialize the LinearRegression model\n",
    "lr = LinearRegression()\n",
    "\n",
    "# Fit the model\n",
    "lr.fit(X_train_imputed, Y_train)\n",
    "\n",
    "# Predict on the test set\n",
    "Y_pred = lr.predict(X_test_imputed)\n",
    "\n",
    "# Print the model\n",
    "print(\"Linear Regression Model:\", lr)\n",
    "\n",
    "# Print the Mean Squared Error and R^2 Score\n",
    "print(\"Mean Squared Error:\", mean_squared_error(Y_test, Y_pred))\n",
    "print(\"R^2 Score:\", r2_score(Y_test, Y_pred))"
   ]
  }
 ],
 "metadata": {
  "kernelspec": {
   "display_name": ".venv",
   "language": "python",
   "name": "python3"
  },
  "language_info": {
   "codemirror_mode": {
    "name": "ipython",
    "version": 3
   },
   "file_extension": ".py",
   "mimetype": "text/x-python",
   "name": "python",
   "nbconvert_exporter": "python",
   "pygments_lexer": "ipython3",
   "version": "3.11.9"
  }
 },
 "nbformat": 4,
 "nbformat_minor": 2
}
